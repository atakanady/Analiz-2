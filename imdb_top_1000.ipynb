{
 "cells": [
  {
   "cell_type": "code",
   "execution_count": 41,
   "id": "67e940f5-95df-4070-8d42-c6cd40429465",
   "metadata": {},
   "outputs": [],
   "source": [
    "import pandas as pd\n",
    "import seaborn as sns\n",
    "import matplotlib as plt\n",
    "import matplotlib.pyplot as plt"
   ]
  },
  {
   "cell_type": "code",
   "execution_count": 30,
   "id": "8f83900c-43e5-4f77-97ef-87bb0844d56f",
   "metadata": {},
   "outputs": [
    {
     "data": {
      "text/html": [
       "<div>\n",
       "<style scoped>\n",
       "    .dataframe tbody tr th:only-of-type {\n",
       "        vertical-align: middle;\n",
       "    }\n",
       "\n",
       "    .dataframe tbody tr th {\n",
       "        vertical-align: top;\n",
       "    }\n",
       "\n",
       "    .dataframe thead th {\n",
       "        text-align: right;\n",
       "    }\n",
       "</style>\n",
       "<table border=\"1\" class=\"dataframe\">\n",
       "  <thead>\n",
       "    <tr style=\"text-align: right;\">\n",
       "      <th></th>\n",
       "      <th>Poster_Link</th>\n",
       "      <th>Series_Title</th>\n",
       "      <th>Released_Year</th>\n",
       "      <th>Certificate</th>\n",
       "      <th>Runtime</th>\n",
       "      <th>Genre</th>\n",
       "      <th>IMDB_Rating</th>\n",
       "      <th>Overview</th>\n",
       "      <th>Meta_score</th>\n",
       "      <th>Director</th>\n",
       "      <th>Star1</th>\n",
       "      <th>Star2</th>\n",
       "      <th>Star3</th>\n",
       "      <th>Star4</th>\n",
       "      <th>No_of_Votes</th>\n",
       "      <th>Gross</th>\n",
       "    </tr>\n",
       "  </thead>\n",
       "  <tbody>\n",
       "    <tr>\n",
       "      <th>0</th>\n",
       "      <td>https://m.media-amazon.com/images/M/MV5BMDFkYT...</td>\n",
       "      <td>The Shawshank Redemption</td>\n",
       "      <td>1994</td>\n",
       "      <td>A</td>\n",
       "      <td>142 min</td>\n",
       "      <td>Drama</td>\n",
       "      <td>9.3</td>\n",
       "      <td>Two imprisoned men bond over a number of years...</td>\n",
       "      <td>80.0</td>\n",
       "      <td>Frank Darabont</td>\n",
       "      <td>Tim Robbins</td>\n",
       "      <td>Morgan Freeman</td>\n",
       "      <td>Bob Gunton</td>\n",
       "      <td>William Sadler</td>\n",
       "      <td>2343110</td>\n",
       "      <td>28,341,469</td>\n",
       "    </tr>\n",
       "    <tr>\n",
       "      <th>1</th>\n",
       "      <td>https://m.media-amazon.com/images/M/MV5BM2MyNj...</td>\n",
       "      <td>The Godfather</td>\n",
       "      <td>1972</td>\n",
       "      <td>A</td>\n",
       "      <td>175 min</td>\n",
       "      <td>Crime, Drama</td>\n",
       "      <td>9.2</td>\n",
       "      <td>An organized crime dynasty's aging patriarch t...</td>\n",
       "      <td>100.0</td>\n",
       "      <td>Francis Ford Coppola</td>\n",
       "      <td>Marlon Brando</td>\n",
       "      <td>Al Pacino</td>\n",
       "      <td>James Caan</td>\n",
       "      <td>Diane Keaton</td>\n",
       "      <td>1620367</td>\n",
       "      <td>134,966,411</td>\n",
       "    </tr>\n",
       "    <tr>\n",
       "      <th>2</th>\n",
       "      <td>https://m.media-amazon.com/images/M/MV5BMTMxNT...</td>\n",
       "      <td>The Dark Knight</td>\n",
       "      <td>2008</td>\n",
       "      <td>UA</td>\n",
       "      <td>152 min</td>\n",
       "      <td>Action, Crime, Drama</td>\n",
       "      <td>9.0</td>\n",
       "      <td>When the menace known as the Joker wreaks havo...</td>\n",
       "      <td>84.0</td>\n",
       "      <td>Christopher Nolan</td>\n",
       "      <td>Christian Bale</td>\n",
       "      <td>Heath Ledger</td>\n",
       "      <td>Aaron Eckhart</td>\n",
       "      <td>Michael Caine</td>\n",
       "      <td>2303232</td>\n",
       "      <td>534,858,444</td>\n",
       "    </tr>\n",
       "    <tr>\n",
       "      <th>3</th>\n",
       "      <td>https://m.media-amazon.com/images/M/MV5BMWMwMG...</td>\n",
       "      <td>The Godfather: Part II</td>\n",
       "      <td>1974</td>\n",
       "      <td>A</td>\n",
       "      <td>202 min</td>\n",
       "      <td>Crime, Drama</td>\n",
       "      <td>9.0</td>\n",
       "      <td>The early life and career of Vito Corleone in ...</td>\n",
       "      <td>90.0</td>\n",
       "      <td>Francis Ford Coppola</td>\n",
       "      <td>Al Pacino</td>\n",
       "      <td>Robert De Niro</td>\n",
       "      <td>Robert Duvall</td>\n",
       "      <td>Diane Keaton</td>\n",
       "      <td>1129952</td>\n",
       "      <td>57,300,000</td>\n",
       "    </tr>\n",
       "    <tr>\n",
       "      <th>4</th>\n",
       "      <td>https://m.media-amazon.com/images/M/MV5BMWU4N2...</td>\n",
       "      <td>12 Angry Men</td>\n",
       "      <td>1957</td>\n",
       "      <td>U</td>\n",
       "      <td>96 min</td>\n",
       "      <td>Crime, Drama</td>\n",
       "      <td>9.0</td>\n",
       "      <td>A jury holdout attempts to prevent a miscarria...</td>\n",
       "      <td>96.0</td>\n",
       "      <td>Sidney Lumet</td>\n",
       "      <td>Henry Fonda</td>\n",
       "      <td>Lee J. Cobb</td>\n",
       "      <td>Martin Balsam</td>\n",
       "      <td>John Fiedler</td>\n",
       "      <td>689845</td>\n",
       "      <td>4,360,000</td>\n",
       "    </tr>\n",
       "  </tbody>\n",
       "</table>\n",
       "</div>"
      ],
      "text/plain": [
       "                                         Poster_Link  \\\n",
       "0  https://m.media-amazon.com/images/M/MV5BMDFkYT...   \n",
       "1  https://m.media-amazon.com/images/M/MV5BM2MyNj...   \n",
       "2  https://m.media-amazon.com/images/M/MV5BMTMxNT...   \n",
       "3  https://m.media-amazon.com/images/M/MV5BMWMwMG...   \n",
       "4  https://m.media-amazon.com/images/M/MV5BMWU4N2...   \n",
       "\n",
       "               Series_Title Released_Year Certificate  Runtime  \\\n",
       "0  The Shawshank Redemption          1994           A  142 min   \n",
       "1             The Godfather          1972           A  175 min   \n",
       "2           The Dark Knight          2008          UA  152 min   \n",
       "3    The Godfather: Part II          1974           A  202 min   \n",
       "4              12 Angry Men          1957           U   96 min   \n",
       "\n",
       "                  Genre  IMDB_Rating  \\\n",
       "0                 Drama          9.3   \n",
       "1          Crime, Drama          9.2   \n",
       "2  Action, Crime, Drama          9.0   \n",
       "3          Crime, Drama          9.0   \n",
       "4          Crime, Drama          9.0   \n",
       "\n",
       "                                            Overview  Meta_score  \\\n",
       "0  Two imprisoned men bond over a number of years...        80.0   \n",
       "1  An organized crime dynasty's aging patriarch t...       100.0   \n",
       "2  When the menace known as the Joker wreaks havo...        84.0   \n",
       "3  The early life and career of Vito Corleone in ...        90.0   \n",
       "4  A jury holdout attempts to prevent a miscarria...        96.0   \n",
       "\n",
       "               Director           Star1           Star2          Star3  \\\n",
       "0        Frank Darabont     Tim Robbins  Morgan Freeman     Bob Gunton   \n",
       "1  Francis Ford Coppola   Marlon Brando       Al Pacino     James Caan   \n",
       "2     Christopher Nolan  Christian Bale    Heath Ledger  Aaron Eckhart   \n",
       "3  Francis Ford Coppola       Al Pacino  Robert De Niro  Robert Duvall   \n",
       "4          Sidney Lumet     Henry Fonda     Lee J. Cobb  Martin Balsam   \n",
       "\n",
       "            Star4  No_of_Votes        Gross  \n",
       "0  William Sadler      2343110   28,341,469  \n",
       "1    Diane Keaton      1620367  134,966,411  \n",
       "2   Michael Caine      2303232  534,858,444  \n",
       "3    Diane Keaton      1129952   57,300,000  \n",
       "4    John Fiedler       689845    4,360,000  "
      ]
     },
     "execution_count": 30,
     "metadata": {},
     "output_type": "execute_result"
    }
   ],
   "source": [
    "data = pd.read_csv('imdb_top_1000.csv')\n",
    "data.head()"
   ]
  },
  {
   "cell_type": "code",
   "execution_count": 31,
   "id": "8de6fb14-5592-4fc3-a387-fae96a34958a",
   "metadata": {},
   "outputs": [],
   "source": [
    "del data['Poster_Link'] #poster link colonunu sildim çünkü resimler geliyordu ve bozuktu"
   ]
  },
  {
   "cell_type": "code",
   "execution_count": 32,
   "id": "83299261-511d-4daa-a96e-5844a1cf5db4",
   "metadata": {},
   "outputs": [
    {
     "data": {
      "text/html": [
       "<div>\n",
       "<style scoped>\n",
       "    .dataframe tbody tr th:only-of-type {\n",
       "        vertical-align: middle;\n",
       "    }\n",
       "\n",
       "    .dataframe tbody tr th {\n",
       "        vertical-align: top;\n",
       "    }\n",
       "\n",
       "    .dataframe thead th {\n",
       "        text-align: right;\n",
       "    }\n",
       "</style>\n",
       "<table border=\"1\" class=\"dataframe\">\n",
       "  <thead>\n",
       "    <tr style=\"text-align: right;\">\n",
       "      <th></th>\n",
       "      <th>Series_Title</th>\n",
       "      <th>Released_Year</th>\n",
       "      <th>Certificate</th>\n",
       "      <th>Runtime</th>\n",
       "      <th>Genre</th>\n",
       "      <th>IMDB_Rating</th>\n",
       "      <th>Overview</th>\n",
       "      <th>Meta_score</th>\n",
       "      <th>Director</th>\n",
       "      <th>Star1</th>\n",
       "      <th>Star2</th>\n",
       "      <th>Star3</th>\n",
       "      <th>Star4</th>\n",
       "      <th>No_of_Votes</th>\n",
       "      <th>Gross</th>\n",
       "    </tr>\n",
       "  </thead>\n",
       "  <tbody>\n",
       "    <tr>\n",
       "      <th>0</th>\n",
       "      <td>The Shawshank Redemption</td>\n",
       "      <td>1994</td>\n",
       "      <td>A</td>\n",
       "      <td>142 min</td>\n",
       "      <td>Drama</td>\n",
       "      <td>9.3</td>\n",
       "      <td>Two imprisoned men bond over a number of years...</td>\n",
       "      <td>80.0</td>\n",
       "      <td>Frank Darabont</td>\n",
       "      <td>Tim Robbins</td>\n",
       "      <td>Morgan Freeman</td>\n",
       "      <td>Bob Gunton</td>\n",
       "      <td>William Sadler</td>\n",
       "      <td>2343110</td>\n",
       "      <td>28,341,469</td>\n",
       "    </tr>\n",
       "    <tr>\n",
       "      <th>1</th>\n",
       "      <td>The Godfather</td>\n",
       "      <td>1972</td>\n",
       "      <td>A</td>\n",
       "      <td>175 min</td>\n",
       "      <td>Crime, Drama</td>\n",
       "      <td>9.2</td>\n",
       "      <td>An organized crime dynasty's aging patriarch t...</td>\n",
       "      <td>100.0</td>\n",
       "      <td>Francis Ford Coppola</td>\n",
       "      <td>Marlon Brando</td>\n",
       "      <td>Al Pacino</td>\n",
       "      <td>James Caan</td>\n",
       "      <td>Diane Keaton</td>\n",
       "      <td>1620367</td>\n",
       "      <td>134,966,411</td>\n",
       "    </tr>\n",
       "    <tr>\n",
       "      <th>2</th>\n",
       "      <td>The Dark Knight</td>\n",
       "      <td>2008</td>\n",
       "      <td>UA</td>\n",
       "      <td>152 min</td>\n",
       "      <td>Action, Crime, Drama</td>\n",
       "      <td>9.0</td>\n",
       "      <td>When the menace known as the Joker wreaks havo...</td>\n",
       "      <td>84.0</td>\n",
       "      <td>Christopher Nolan</td>\n",
       "      <td>Christian Bale</td>\n",
       "      <td>Heath Ledger</td>\n",
       "      <td>Aaron Eckhart</td>\n",
       "      <td>Michael Caine</td>\n",
       "      <td>2303232</td>\n",
       "      <td>534,858,444</td>\n",
       "    </tr>\n",
       "    <tr>\n",
       "      <th>3</th>\n",
       "      <td>The Godfather: Part II</td>\n",
       "      <td>1974</td>\n",
       "      <td>A</td>\n",
       "      <td>202 min</td>\n",
       "      <td>Crime, Drama</td>\n",
       "      <td>9.0</td>\n",
       "      <td>The early life and career of Vito Corleone in ...</td>\n",
       "      <td>90.0</td>\n",
       "      <td>Francis Ford Coppola</td>\n",
       "      <td>Al Pacino</td>\n",
       "      <td>Robert De Niro</td>\n",
       "      <td>Robert Duvall</td>\n",
       "      <td>Diane Keaton</td>\n",
       "      <td>1129952</td>\n",
       "      <td>57,300,000</td>\n",
       "    </tr>\n",
       "    <tr>\n",
       "      <th>4</th>\n",
       "      <td>12 Angry Men</td>\n",
       "      <td>1957</td>\n",
       "      <td>U</td>\n",
       "      <td>96 min</td>\n",
       "      <td>Crime, Drama</td>\n",
       "      <td>9.0</td>\n",
       "      <td>A jury holdout attempts to prevent a miscarria...</td>\n",
       "      <td>96.0</td>\n",
       "      <td>Sidney Lumet</td>\n",
       "      <td>Henry Fonda</td>\n",
       "      <td>Lee J. Cobb</td>\n",
       "      <td>Martin Balsam</td>\n",
       "      <td>John Fiedler</td>\n",
       "      <td>689845</td>\n",
       "      <td>4,360,000</td>\n",
       "    </tr>\n",
       "  </tbody>\n",
       "</table>\n",
       "</div>"
      ],
      "text/plain": [
       "               Series_Title Released_Year Certificate  Runtime  \\\n",
       "0  The Shawshank Redemption          1994           A  142 min   \n",
       "1             The Godfather          1972           A  175 min   \n",
       "2           The Dark Knight          2008          UA  152 min   \n",
       "3    The Godfather: Part II          1974           A  202 min   \n",
       "4              12 Angry Men          1957           U   96 min   \n",
       "\n",
       "                  Genre  IMDB_Rating  \\\n",
       "0                 Drama          9.3   \n",
       "1          Crime, Drama          9.2   \n",
       "2  Action, Crime, Drama          9.0   \n",
       "3          Crime, Drama          9.0   \n",
       "4          Crime, Drama          9.0   \n",
       "\n",
       "                                            Overview  Meta_score  \\\n",
       "0  Two imprisoned men bond over a number of years...        80.0   \n",
       "1  An organized crime dynasty's aging patriarch t...       100.0   \n",
       "2  When the menace known as the Joker wreaks havo...        84.0   \n",
       "3  The early life and career of Vito Corleone in ...        90.0   \n",
       "4  A jury holdout attempts to prevent a miscarria...        96.0   \n",
       "\n",
       "               Director           Star1           Star2          Star3  \\\n",
       "0        Frank Darabont     Tim Robbins  Morgan Freeman     Bob Gunton   \n",
       "1  Francis Ford Coppola   Marlon Brando       Al Pacino     James Caan   \n",
       "2     Christopher Nolan  Christian Bale    Heath Ledger  Aaron Eckhart   \n",
       "3  Francis Ford Coppola       Al Pacino  Robert De Niro  Robert Duvall   \n",
       "4          Sidney Lumet     Henry Fonda     Lee J. Cobb  Martin Balsam   \n",
       "\n",
       "            Star4  No_of_Votes        Gross  \n",
       "0  William Sadler      2343110   28,341,469  \n",
       "1    Diane Keaton      1620367  134,966,411  \n",
       "2   Michael Caine      2303232  534,858,444  \n",
       "3    Diane Keaton      1129952   57,300,000  \n",
       "4    John Fiedler       689845    4,360,000  "
      ]
     },
     "execution_count": 32,
     "metadata": {},
     "output_type": "execute_result"
    }
   ],
   "source": [
    "data.head()"
   ]
  },
  {
   "cell_type": "code",
   "execution_count": 33,
   "id": "f5490005-46b9-4a92-946b-8777ae87272e",
   "metadata": {},
   "outputs": [
    {
     "data": {
      "text/html": [
       "<div>\n",
       "<style scoped>\n",
       "    .dataframe tbody tr th:only-of-type {\n",
       "        vertical-align: middle;\n",
       "    }\n",
       "\n",
       "    .dataframe tbody tr th {\n",
       "        vertical-align: top;\n",
       "    }\n",
       "\n",
       "    .dataframe thead th {\n",
       "        text-align: right;\n",
       "    }\n",
       "</style>\n",
       "<table border=\"1\" class=\"dataframe\">\n",
       "  <thead>\n",
       "    <tr style=\"text-align: right;\">\n",
       "      <th></th>\n",
       "      <th>Series_Title</th>\n",
       "      <th>Released_Year</th>\n",
       "      <th>Certificate</th>\n",
       "      <th>Runtime</th>\n",
       "      <th>Genre</th>\n",
       "      <th>IMDB_Rating</th>\n",
       "      <th>Overview</th>\n",
       "      <th>Meta_score</th>\n",
       "      <th>Director</th>\n",
       "      <th>Star1</th>\n",
       "      <th>Star2</th>\n",
       "      <th>Star3</th>\n",
       "      <th>Star4</th>\n",
       "      <th>No_of_Votes</th>\n",
       "      <th>Gross</th>\n",
       "    </tr>\n",
       "  </thead>\n",
       "  <tbody>\n",
       "    <tr>\n",
       "      <th>995</th>\n",
       "      <td>Breakfast at Tiffany's</td>\n",
       "      <td>1961</td>\n",
       "      <td>A</td>\n",
       "      <td>115 min</td>\n",
       "      <td>Comedy, Drama, Romance</td>\n",
       "      <td>7.6</td>\n",
       "      <td>A young New York socialite becomes interested ...</td>\n",
       "      <td>76.0</td>\n",
       "      <td>Blake Edwards</td>\n",
       "      <td>Audrey Hepburn</td>\n",
       "      <td>George Peppard</td>\n",
       "      <td>Patricia Neal</td>\n",
       "      <td>Buddy Ebsen</td>\n",
       "      <td>166544</td>\n",
       "      <td>NaN</td>\n",
       "    </tr>\n",
       "    <tr>\n",
       "      <th>996</th>\n",
       "      <td>Giant</td>\n",
       "      <td>1956</td>\n",
       "      <td>G</td>\n",
       "      <td>201 min</td>\n",
       "      <td>Drama, Western</td>\n",
       "      <td>7.6</td>\n",
       "      <td>Sprawling epic covering the life of a Texas ca...</td>\n",
       "      <td>84.0</td>\n",
       "      <td>George Stevens</td>\n",
       "      <td>Elizabeth Taylor</td>\n",
       "      <td>Rock Hudson</td>\n",
       "      <td>James Dean</td>\n",
       "      <td>Carroll Baker</td>\n",
       "      <td>34075</td>\n",
       "      <td>NaN</td>\n",
       "    </tr>\n",
       "    <tr>\n",
       "      <th>997</th>\n",
       "      <td>From Here to Eternity</td>\n",
       "      <td>1953</td>\n",
       "      <td>Passed</td>\n",
       "      <td>118 min</td>\n",
       "      <td>Drama, Romance, War</td>\n",
       "      <td>7.6</td>\n",
       "      <td>In Hawaii in 1941, a private is cruelly punish...</td>\n",
       "      <td>85.0</td>\n",
       "      <td>Fred Zinnemann</td>\n",
       "      <td>Burt Lancaster</td>\n",
       "      <td>Montgomery Clift</td>\n",
       "      <td>Deborah Kerr</td>\n",
       "      <td>Donna Reed</td>\n",
       "      <td>43374</td>\n",
       "      <td>30,500,000</td>\n",
       "    </tr>\n",
       "    <tr>\n",
       "      <th>998</th>\n",
       "      <td>Lifeboat</td>\n",
       "      <td>1944</td>\n",
       "      <td>NaN</td>\n",
       "      <td>97 min</td>\n",
       "      <td>Drama, War</td>\n",
       "      <td>7.6</td>\n",
       "      <td>Several survivors of a torpedoed merchant ship...</td>\n",
       "      <td>78.0</td>\n",
       "      <td>Alfred Hitchcock</td>\n",
       "      <td>Tallulah Bankhead</td>\n",
       "      <td>John Hodiak</td>\n",
       "      <td>Walter Slezak</td>\n",
       "      <td>William Bendix</td>\n",
       "      <td>26471</td>\n",
       "      <td>NaN</td>\n",
       "    </tr>\n",
       "    <tr>\n",
       "      <th>999</th>\n",
       "      <td>The 39 Steps</td>\n",
       "      <td>1935</td>\n",
       "      <td>NaN</td>\n",
       "      <td>86 min</td>\n",
       "      <td>Crime, Mystery, Thriller</td>\n",
       "      <td>7.6</td>\n",
       "      <td>A man in London tries to help a counter-espion...</td>\n",
       "      <td>93.0</td>\n",
       "      <td>Alfred Hitchcock</td>\n",
       "      <td>Robert Donat</td>\n",
       "      <td>Madeleine Carroll</td>\n",
       "      <td>Lucie Mannheim</td>\n",
       "      <td>Godfrey Tearle</td>\n",
       "      <td>51853</td>\n",
       "      <td>NaN</td>\n",
       "    </tr>\n",
       "  </tbody>\n",
       "</table>\n",
       "</div>"
      ],
      "text/plain": [
       "               Series_Title Released_Year Certificate  Runtime  \\\n",
       "995  Breakfast at Tiffany's          1961           A  115 min   \n",
       "996                   Giant          1956           G  201 min   \n",
       "997   From Here to Eternity          1953      Passed  118 min   \n",
       "998                Lifeboat          1944         NaN   97 min   \n",
       "999            The 39 Steps          1935         NaN   86 min   \n",
       "\n",
       "                        Genre  IMDB_Rating  \\\n",
       "995    Comedy, Drama, Romance          7.6   \n",
       "996            Drama, Western          7.6   \n",
       "997       Drama, Romance, War          7.6   \n",
       "998                Drama, War          7.6   \n",
       "999  Crime, Mystery, Thriller          7.6   \n",
       "\n",
       "                                              Overview  Meta_score  \\\n",
       "995  A young New York socialite becomes interested ...        76.0   \n",
       "996  Sprawling epic covering the life of a Texas ca...        84.0   \n",
       "997  In Hawaii in 1941, a private is cruelly punish...        85.0   \n",
       "998  Several survivors of a torpedoed merchant ship...        78.0   \n",
       "999  A man in London tries to help a counter-espion...        93.0   \n",
       "\n",
       "             Director              Star1              Star2           Star3  \\\n",
       "995     Blake Edwards     Audrey Hepburn     George Peppard   Patricia Neal   \n",
       "996    George Stevens   Elizabeth Taylor        Rock Hudson      James Dean   \n",
       "997    Fred Zinnemann     Burt Lancaster   Montgomery Clift    Deborah Kerr   \n",
       "998  Alfred Hitchcock  Tallulah Bankhead        John Hodiak   Walter Slezak   \n",
       "999  Alfred Hitchcock       Robert Donat  Madeleine Carroll  Lucie Mannheim   \n",
       "\n",
       "              Star4  No_of_Votes       Gross  \n",
       "995     Buddy Ebsen       166544         NaN  \n",
       "996   Carroll Baker        34075         NaN  \n",
       "997      Donna Reed        43374  30,500,000  \n",
       "998  William Bendix        26471         NaN  \n",
       "999  Godfrey Tearle        51853         NaN  "
      ]
     },
     "execution_count": 33,
     "metadata": {},
     "output_type": "execute_result"
    }
   ],
   "source": [
    "data.tail()"
   ]
  },
  {
   "cell_type": "code",
   "execution_count": 34,
   "id": "ea032da8-dd25-419c-9836-ad0a6fee4686",
   "metadata": {},
   "outputs": [
    {
     "name": "stdout",
     "output_type": "stream",
     "text": [
      "<class 'pandas.core.frame.DataFrame'>\n",
      "RangeIndex: 1000 entries, 0 to 999\n",
      "Data columns (total 15 columns):\n",
      " #   Column         Non-Null Count  Dtype  \n",
      "---  ------         --------------  -----  \n",
      " 0   Series_Title   1000 non-null   object \n",
      " 1   Released_Year  1000 non-null   object \n",
      " 2   Certificate    899 non-null    object \n",
      " 3   Runtime        1000 non-null   object \n",
      " 4   Genre          1000 non-null   object \n",
      " 5   IMDB_Rating    1000 non-null   float64\n",
      " 6   Overview       1000 non-null   object \n",
      " 7   Meta_score     843 non-null    float64\n",
      " 8   Director       1000 non-null   object \n",
      " 9   Star1          1000 non-null   object \n",
      " 10  Star2          1000 non-null   object \n",
      " 11  Star3          1000 non-null   object \n",
      " 12  Star4          1000 non-null   object \n",
      " 13  No_of_Votes    1000 non-null   int64  \n",
      " 14  Gross          831 non-null    object \n",
      "dtypes: float64(2), int64(1), object(12)\n",
      "memory usage: 117.3+ KB\n"
     ]
    }
   ],
   "source": [
    "data.info()"
   ]
  },
  {
   "cell_type": "code",
   "execution_count": 35,
   "id": "dc188e85-93eb-4218-8754-79d21f54683a",
   "metadata": {},
   "outputs": [
    {
     "data": {
      "text/html": [
       "<div>\n",
       "<style scoped>\n",
       "    .dataframe tbody tr th:only-of-type {\n",
       "        vertical-align: middle;\n",
       "    }\n",
       "\n",
       "    .dataframe tbody tr th {\n",
       "        vertical-align: top;\n",
       "    }\n",
       "\n",
       "    .dataframe thead th {\n",
       "        text-align: right;\n",
       "    }\n",
       "</style>\n",
       "<table border=\"1\" class=\"dataframe\">\n",
       "  <thead>\n",
       "    <tr style=\"text-align: right;\">\n",
       "      <th></th>\n",
       "      <th>IMDB_Rating</th>\n",
       "      <th>Meta_score</th>\n",
       "      <th>No_of_Votes</th>\n",
       "    </tr>\n",
       "  </thead>\n",
       "  <tbody>\n",
       "    <tr>\n",
       "      <th>count</th>\n",
       "      <td>1000.000000</td>\n",
       "      <td>843.000000</td>\n",
       "      <td>1.000000e+03</td>\n",
       "    </tr>\n",
       "    <tr>\n",
       "      <th>mean</th>\n",
       "      <td>7.949300</td>\n",
       "      <td>77.971530</td>\n",
       "      <td>2.736929e+05</td>\n",
       "    </tr>\n",
       "    <tr>\n",
       "      <th>std</th>\n",
       "      <td>0.275491</td>\n",
       "      <td>12.376099</td>\n",
       "      <td>3.273727e+05</td>\n",
       "    </tr>\n",
       "    <tr>\n",
       "      <th>min</th>\n",
       "      <td>7.600000</td>\n",
       "      <td>28.000000</td>\n",
       "      <td>2.508800e+04</td>\n",
       "    </tr>\n",
       "    <tr>\n",
       "      <th>25%</th>\n",
       "      <td>7.700000</td>\n",
       "      <td>70.000000</td>\n",
       "      <td>5.552625e+04</td>\n",
       "    </tr>\n",
       "    <tr>\n",
       "      <th>50%</th>\n",
       "      <td>7.900000</td>\n",
       "      <td>79.000000</td>\n",
       "      <td>1.385485e+05</td>\n",
       "    </tr>\n",
       "    <tr>\n",
       "      <th>75%</th>\n",
       "      <td>8.100000</td>\n",
       "      <td>87.000000</td>\n",
       "      <td>3.741612e+05</td>\n",
       "    </tr>\n",
       "    <tr>\n",
       "      <th>max</th>\n",
       "      <td>9.300000</td>\n",
       "      <td>100.000000</td>\n",
       "      <td>2.343110e+06</td>\n",
       "    </tr>\n",
       "  </tbody>\n",
       "</table>\n",
       "</div>"
      ],
      "text/plain": [
       "       IMDB_Rating  Meta_score   No_of_Votes\n",
       "count  1000.000000  843.000000  1.000000e+03\n",
       "mean      7.949300   77.971530  2.736929e+05\n",
       "std       0.275491   12.376099  3.273727e+05\n",
       "min       7.600000   28.000000  2.508800e+04\n",
       "25%       7.700000   70.000000  5.552625e+04\n",
       "50%       7.900000   79.000000  1.385485e+05\n",
       "75%       8.100000   87.000000  3.741612e+05\n",
       "max       9.300000  100.000000  2.343110e+06"
      ]
     },
     "execution_count": 35,
     "metadata": {},
     "output_type": "execute_result"
    }
   ],
   "source": [
    "data.describe()"
   ]
  },
  {
   "cell_type": "code",
   "execution_count": 36,
   "id": "a476a6f7-c032-4d8d-994e-e7389e947f1f",
   "metadata": {},
   "outputs": [
    {
     "data": {
      "text/plain": [
       "Series_Title       0\n",
       "Released_Year      0\n",
       "Certificate      101\n",
       "Runtime            0\n",
       "Genre              0\n",
       "IMDB_Rating        0\n",
       "Overview           0\n",
       "Meta_score       157\n",
       "Director           0\n",
       "Star1              0\n",
       "Star2              0\n",
       "Star3              0\n",
       "Star4              0\n",
       "No_of_Votes        0\n",
       "Gross            169\n",
       "dtype: int64"
      ]
     },
     "execution_count": 36,
     "metadata": {},
     "output_type": "execute_result"
    }
   ],
   "source": [
    "# veri kümesindeki boş değerlerin toplamını bulmak için\n",
    "data.isnull().sum()"
   ]
  },
  {
   "cell_type": "code",
   "execution_count": 37,
   "id": "8e22999b-33cd-42b4-b43d-c405c7f2637f",
   "metadata": {},
   "outputs": [],
   "source": [
    "data['Certificate'] = data['Certificate'].fillna(data['Certificate'].mode()[0])\n",
    "data['Meta_score'] = data['Meta_score'].fillna(data['Meta_score'].median())\n",
    "data['Gross'] = data['Gross'].fillna(data['Gross'].mode()[0])"
   ]
  },
  {
   "cell_type": "code",
   "execution_count": 38,
   "id": "c57f80bc-2be5-48b9-a7aa-bf1a40714c94",
   "metadata": {},
   "outputs": [
    {
     "data": {
      "text/plain": [
       "Series_Title     0\n",
       "Released_Year    0\n",
       "Certificate      0\n",
       "Runtime          0\n",
       "Genre            0\n",
       "IMDB_Rating      0\n",
       "Overview         0\n",
       "Meta_score       0\n",
       "Director         0\n",
       "Star1            0\n",
       "Star2            0\n",
       "Star3            0\n",
       "Star4            0\n",
       "No_of_Votes      0\n",
       "Gross            0\n",
       "dtype: int64"
      ]
     },
     "execution_count": 38,
     "metadata": {},
     "output_type": "execute_result"
    }
   ],
   "source": [
    "data.isnull().sum()"
   ]
  },
  {
   "cell_type": "code",
   "execution_count": 39,
   "id": "70faa803-f0f2-4525-9185-ceee26241122",
   "metadata": {},
   "outputs": [
    {
     "name": "stdout",
     "output_type": "stream",
     "text": [
      "<class 'pandas.core.frame.DataFrame'>\n",
      "RangeIndex: 1000 entries, 0 to 999\n",
      "Data columns (total 15 columns):\n",
      " #   Column         Non-Null Count  Dtype  \n",
      "---  ------         --------------  -----  \n",
      " 0   Series_Title   1000 non-null   object \n",
      " 1   Released_Year  1000 non-null   object \n",
      " 2   Certificate    1000 non-null   object \n",
      " 3   Runtime        1000 non-null   object \n",
      " 4   Genre          1000 non-null   object \n",
      " 5   IMDB_Rating    1000 non-null   float64\n",
      " 6   Overview       1000 non-null   object \n",
      " 7   Meta_score     1000 non-null   float64\n",
      " 8   Director       1000 non-null   object \n",
      " 9   Star1          1000 non-null   object \n",
      " 10  Star2          1000 non-null   object \n",
      " 11  Star3          1000 non-null   object \n",
      " 12  Star4          1000 non-null   object \n",
      " 13  No_of_Votes    1000 non-null   int64  \n",
      " 14  Gross          1000 non-null   object \n",
      "dtypes: float64(2), int64(1), object(12)\n",
      "memory usage: 117.3+ KB\n"
     ]
    }
   ],
   "source": [
    "data.info()"
   ]
  },
  {
   "cell_type": "code",
   "execution_count": 42,
   "id": "beda05ef-3843-4164-a869-1507aa245d00",
   "metadata": {},
   "outputs": [
    {
     "data": {
      "image/png": "[encoded data removed]",
      "text/plain": [
       "<Figure size 216x72 with 1 Axes>"
      ]
     },
     "metadata": {
      "needs_background": "light"
     },
     "output_type": "display_data"
    }
   ],
   "source": [
    "#Renklendirme\n",
    "sns.palplot(['#f5c518', '#121212','#8b8b8b'])\n",
    "\n",
    "plt.title(\"IMDB Palette \",loc='left',fontfamily='Comic Sans MS',fontsize=15,y=1.2)\n",
    "plt.show()"
   ]
  },
  {
   "cell_type": "code",
   "execution_count": 45,
   "id": "00d40f3c-b75a-45ba-b9de-ce448686fa9c",
   "metadata": {},
   "outputs": [
    {
     "data": {
      "text/plain": [
       "<AxesSubplot:xlabel='Certificate', ylabel='count'>"
      ]
     },
     "execution_count": 45,
     "metadata": {},
     "output_type": "execute_result"
    },
    {
     "data": {
      "image/png": "[encoded data removed]",
      "text/plain": [
       "<Figure size 1440x720 with 1 Axes>"
      ]
     },
     "metadata": {
      "needs_background": "light"
     },
     "output_type": "display_data"
    }
   ],
   "source": [
    "plt.figure(figsize=(20,10))\n",
    "sns.countplot(x='Certificate', order = data['Certificate'].value_counts().index[0:-1],palette =['#f5c518', '#121212','#8b8b8b'],data = data)"
   ]
  },
  {
   "cell_type": "code",
   "execution_count": 46,
   "id": "cc6e09a2-bc29-4997-b9a3-95ed7c9b8272",
   "metadata": {},
   "outputs": [
    {
     "data": {
      "text/plain": [
       "<AxesSubplot:xlabel='IMDB_Rating', ylabel='count'>"
      ]
     },
     "execution_count": 46,
     "metadata": {},
     "output_type": "execute_result"
    },
    {
     "data": {
      "image/png": "[encoded data removed]",
      "text/plain": [
       "<Figure size 1440x720 with 1 Axes>"
      ]
     },
     "metadata": {
      "needs_background": "light"
     },
     "output_type": "display_data"
    }
   ],
   "source": [
    "plt.figure(figsize=(20,10))\n",
    "sns.countplot(x='IMDB_Rating',palette =['#f5c518', '#121212','#8b8b8b'], data = data)"
   ]
  },
  {
   "cell_type": "code",
   "execution_count": 48,
   "id": "6f824fa3-841b-4b44-99b0-63766f5e1614",
   "metadata": {},
   "outputs": [
    {
     "data": {
      "image/png": "[encoded data removed]",
      "text/plain": [
       "<Figure size 1440x720 with 1 Axes>"
      ]
     },
     "metadata": {
      "needs_background": "light"
     },
     "output_type": "display_data"
    }
   ],
   "source": [
    "plt.figure(figsize=(20,10))\n",
    "plt.scatter(data['Certificate'], data['Meta_score'],color='#8b8b8b')\n",
    "plt.show()"
   ]
  },
  {
   "cell_type": "code",
   "execution_count": 52,
   "id": "f5e3cb01-0dd1-4bc0-b107-92ab9e0b732e",
   "metadata": {},
   "outputs": [
    {
     "name": "stdout",
     "output_type": "stream",
     "text": [
      "[1, 3, 4, 5]\n"
     ]
    }
   ],
   "source": [
    "num_list =[1,2,3,4,5]\n",
    "num_list.remove(2)\n",
    "print(num_list)"
   ]
  },
  {
   "cell_type": "code",
   "execution_count": 50,
   "id": "eec92df1-f5e9-4f51-8a11-6c471a87f89a",
   "metadata": {},
   "outputs": [
    {
     "ename": "NameError",
     "evalue": "name 'get_max_num' is not defined",
     "output_type": "error",
     "traceback": [
      "\u001b[1;31m---------------------------------------------------------------------------\u001b[0m",
      "\u001b[1;31mNameError\u001b[0m                                 Traceback (most recent call last)",
      "Input \u001b[1;32mIn [50]\u001b[0m, in \u001b[0;36m<cell line: 1>\u001b[1;34m()\u001b[0m\n\u001b[1;32m----> 1\u001b[0m \u001b[43mget_max_num\u001b[49m([\u001b[38;5;241m57\u001b[39m])\n",
      "\u001b[1;31mNameError\u001b[0m: name 'get_max_num' is not defined"
     ]
    }
   ],
   "source": [
    "get_max_num([57])"
   ]
  },
  {
   "cell_type": "code",
   "execution_count": 53,
   "id": "d7b9856d-130d-480d-ad8f-88d4c66f9384",
   "metadata": {},
   "outputs": [
    {
     "data": {
      "text/plain": [
       "[10, 9, 8, 7, 6, 5, 4, 3, 2, 1]"
      ]
     },
     "execution_count": 53,
     "metadata": {},
     "output_type": "execute_result"
    }
   ],
   "source": [
    "list(reversed(range(1,11)))"
   ]
  },
  {
   "cell_type": "code",
   "execution_count": 54,
   "id": "9f4a26a3-58af-4c81-b665-c543dc5e6d6b",
   "metadata": {},
   "outputs": [
    {
     "ename": "SyntaxError",
     "evalue": "invalid syntax (606068052.py, line 3)",
     "output_type": "error",
     "traceback": [
      "\u001b[1;36m  Input \u001b[1;32mIn [54]\u001b[1;36m\u001b[0m\n\u001b[1;33m    'fruit:'3.5}\u001b[0m\n\u001b[1;37m            ^\u001b[0m\n\u001b[1;31mSyntaxError\u001b[0m\u001b[1;31m:\u001b[0m invalid syntax\n"
     ]
    }
   ],
   "source": [
    "o ={'fruit:''apple',\n",
    "   'fruit:''apple',\n",
    "   'fruit:'3.5}"
   ]
  },
  {
   "cell_type": "code",
   "execution_count": null,
   "id": "e3bfe282-1b51-4e3a-b097-74712a108598",
   "metadata": {},
   "outputs": [],
   "source": []
  }
 ],
 "metadata": {
  "kernelspec": {
   "display_name": "Python 3 (ipykernel)",
   "language": "python",
   "name": "python3"
  },
  "language_info": {
   "codemirror_mode": {
    "name": "ipython",
    "version": 3
   },
   "file_extension": ".py",
   "mimetype": "text/x-python",
   "name": "python",
   "nbconvert_exporter": "python",
   "pygments_lexer": "ipython3",
   "version": "3.8.0"
  }
 },
 "nbformat": 4,
 "nbformat_minor": 5
}
